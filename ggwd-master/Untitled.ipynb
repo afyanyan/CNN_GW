{
 "cells": [
  {
   "cell_type": "code",
   "execution_count": 5,
   "id": "67a179cd-5022-4d2f-8483-5437546a8f68",
   "metadata": {},
   "outputs": [],
   "source": [
    "\"\"\"\n",
    "The \"main script\" of this repository: Read in a configuration file and\n",
    "generate synthetic GW data according to the provided specifications.\n",
    "\"\"\"\n",
    "\n",
    "# -----------------------------------------------------------------------------\n",
    "# IMPORTS\n",
    "# -----------------------------------------------------------------------------\n",
    "\n",
    "from __future__ import print_function\n",
    "\n",
    "import argparse\n",
    "import numpy as np\n",
    "import os\n",
    "import sys\n",
    "import time\n",
    "import io\n",
    "\n",
    "from itertools import count\n",
    "from multiprocessing import Process, Queue\n",
    "from tqdm import tqdm\n",
    "\n",
    "from utils.configfiles import read_ini_config, read_json_config\n",
    "from utils.hdffiles import NoiseTimeline\n",
    "from utils.samplefiles import SampleFile\n",
    "from utils.samplegeneration import generate_sample\n",
    "from utils.waveforms import WaveformParameterGenerator"
   ]
  },
  {
   "cell_type": "code",
   "execution_count": 17,
   "id": "fedcbc1b-6e0a-4626-a3d3-e79f3cf8b4d2",
   "metadata": {},
   "outputs": [],
   "source": [
    "from utils.samplefiles import SampleFile\n",
    "import h5py "
   ]
  },
  {
   "cell_type": "code",
   "execution_count": 23,
   "id": "5f48c475-e679-41e3-a21b-3b3f663237da",
   "metadata": {},
   "outputs": [
    {
     "name": "stdout",
     "output_type": "stream",
     "text": [
      "Reading in HDF file... "
     ]
    },
    {
     "ename": "OSError",
     "evalue": "Unable to open file (unable to open file: name = 'output', errno = 2, error message = 'No such file or directory', flags = 0, o_flags = 0)",
     "output_type": "error",
     "traceback": [
      "\u001b[0;31m---------------------------------------------------------------------------\u001b[0m",
      "\u001b[0;31mOSError\u001b[0m                                   Traceback (most recent call last)",
      "\u001b[0;32m<ipython-input-23-4ad126e45ed4>\u001b[0m in \u001b[0;36m<module>\u001b[0;34m\u001b[0m\n\u001b[1;32m      2\u001b[0m \u001b[0mprint\u001b[0m\u001b[0;34m(\u001b[0m\u001b[0;34m'Reading in HDF file...'\u001b[0m\u001b[0;34m,\u001b[0m \u001b[0mend\u001b[0m\u001b[0;34m=\u001b[0m\u001b[0;34m' '\u001b[0m\u001b[0;34m)\u001b[0m\u001b[0;34m\u001b[0m\u001b[0;34m\u001b[0m\u001b[0m\n\u001b[1;32m      3\u001b[0m \u001b[0mdata\u001b[0m \u001b[0;34m=\u001b[0m \u001b[0mSampleFile\u001b[0m\u001b[0;34m(\u001b[0m\u001b[0;34m)\u001b[0m\u001b[0;34m\u001b[0m\u001b[0;34m\u001b[0m\u001b[0m\n\u001b[0;32m----> 4\u001b[0;31m \u001b[0mdata\u001b[0m\u001b[0;34m.\u001b[0m\u001b[0mread_hdf\u001b[0m\u001b[0;34m(\u001b[0m\u001b[0mhdf_file_path\u001b[0m\u001b[0;34m)\u001b[0m\u001b[0;34m\u001b[0m\u001b[0;34m\u001b[0m\u001b[0m\n\u001b[0m\u001b[1;32m      5\u001b[0m df = data.as_dataframe(injection_parameters=True,\n\u001b[1;32m      6\u001b[0m                            static_arguments=True)\n",
      "\u001b[0;32m~/CNN/timothygebhard-ggwd-dd5985f/utils/samplefiles.py\u001b[0m in \u001b[0;36mread_hdf\u001b[0;34m(self, file_path)\u001b[0m\n\u001b[1;32m    135\u001b[0m         \u001b[0mself\u001b[0m\u001b[0;34m.\u001b[0m\u001b[0mdata\u001b[0m \u001b[0;34m=\u001b[0m \u001b[0;34m{\u001b[0m\u001b[0;34m}\u001b[0m\u001b[0;34m\u001b[0m\u001b[0;34m\u001b[0m\u001b[0m\n\u001b[1;32m    136\u001b[0m \u001b[0;34m\u001b[0m\u001b[0m\n\u001b[0;32m--> 137\u001b[0;31m         \u001b[0;32mwith\u001b[0m \u001b[0mh5py\u001b[0m\u001b[0;34m.\u001b[0m\u001b[0mFile\u001b[0m\u001b[0;34m(\u001b[0m\u001b[0mfile_path\u001b[0m\u001b[0;34m,\u001b[0m \u001b[0;34m'r'\u001b[0m\u001b[0;34m)\u001b[0m \u001b[0;32mas\u001b[0m \u001b[0mhdf_file\u001b[0m\u001b[0;34m:\u001b[0m\u001b[0;34m\u001b[0m\u001b[0;34m\u001b[0m\u001b[0m\n\u001b[0m\u001b[1;32m    138\u001b[0m \u001b[0;34m\u001b[0m\u001b[0m\n\u001b[1;32m    139\u001b[0m             \u001b[0;31m# Read in dict with command_line_arguments\u001b[0m\u001b[0;34m\u001b[0m\u001b[0;34m\u001b[0m\u001b[0;34m\u001b[0m\u001b[0m\n",
      "\u001b[0;32m/cvmfs/oasis.opensciencegrid.org/ligo/sw/conda/envs/igwn-py38/lib/python3.8/site-packages/h5py/_hl/files.py\u001b[0m in \u001b[0;36m__init__\u001b[0;34m(self, name, mode, driver, libver, userblock_size, swmr, rdcc_nslots, rdcc_nbytes, rdcc_w0, track_order, **kwds)\u001b[0m\n\u001b[1;32m    404\u001b[0m             \u001b[0;32mwith\u001b[0m \u001b[0mphil\u001b[0m\u001b[0;34m:\u001b[0m\u001b[0;34m\u001b[0m\u001b[0;34m\u001b[0m\u001b[0m\n\u001b[1;32m    405\u001b[0m                 \u001b[0mfapl\u001b[0m \u001b[0;34m=\u001b[0m \u001b[0mmake_fapl\u001b[0m\u001b[0;34m(\u001b[0m\u001b[0mdriver\u001b[0m\u001b[0;34m,\u001b[0m \u001b[0mlibver\u001b[0m\u001b[0;34m,\u001b[0m \u001b[0mrdcc_nslots\u001b[0m\u001b[0;34m,\u001b[0m \u001b[0mrdcc_nbytes\u001b[0m\u001b[0;34m,\u001b[0m \u001b[0mrdcc_w0\u001b[0m\u001b[0;34m,\u001b[0m \u001b[0;34m**\u001b[0m\u001b[0mkwds\u001b[0m\u001b[0;34m)\u001b[0m\u001b[0;34m\u001b[0m\u001b[0;34m\u001b[0m\u001b[0m\n\u001b[0;32m--> 406\u001b[0;31m                 fid = make_fid(name, mode, userblock_size,\n\u001b[0m\u001b[1;32m    407\u001b[0m                                \u001b[0mfapl\u001b[0m\u001b[0;34m,\u001b[0m \u001b[0mfcpl\u001b[0m\u001b[0;34m=\u001b[0m\u001b[0mmake_fcpl\u001b[0m\u001b[0;34m(\u001b[0m\u001b[0mtrack_order\u001b[0m\u001b[0;34m=\u001b[0m\u001b[0mtrack_order\u001b[0m\u001b[0;34m)\u001b[0m\u001b[0;34m,\u001b[0m\u001b[0;34m\u001b[0m\u001b[0;34m\u001b[0m\u001b[0m\n\u001b[1;32m    408\u001b[0m                                swmr=swmr)\n",
      "\u001b[0;32m/cvmfs/oasis.opensciencegrid.org/ligo/sw/conda/envs/igwn-py38/lib/python3.8/site-packages/h5py/_hl/files.py\u001b[0m in \u001b[0;36mmake_fid\u001b[0;34m(name, mode, userblock_size, fapl, fcpl, swmr)\u001b[0m\n\u001b[1;32m    171\u001b[0m         \u001b[0;32mif\u001b[0m \u001b[0mswmr\u001b[0m \u001b[0;32mand\u001b[0m \u001b[0mswmr_support\u001b[0m\u001b[0;34m:\u001b[0m\u001b[0;34m\u001b[0m\u001b[0;34m\u001b[0m\u001b[0m\n\u001b[1;32m    172\u001b[0m             \u001b[0mflags\u001b[0m \u001b[0;34m|=\u001b[0m \u001b[0mh5f\u001b[0m\u001b[0;34m.\u001b[0m\u001b[0mACC_SWMR_READ\u001b[0m\u001b[0;34m\u001b[0m\u001b[0;34m\u001b[0m\u001b[0m\n\u001b[0;32m--> 173\u001b[0;31m         \u001b[0mfid\u001b[0m \u001b[0;34m=\u001b[0m \u001b[0mh5f\u001b[0m\u001b[0;34m.\u001b[0m\u001b[0mopen\u001b[0m\u001b[0;34m(\u001b[0m\u001b[0mname\u001b[0m\u001b[0;34m,\u001b[0m \u001b[0mflags\u001b[0m\u001b[0;34m,\u001b[0m \u001b[0mfapl\u001b[0m\u001b[0;34m=\u001b[0m\u001b[0mfapl\u001b[0m\u001b[0;34m)\u001b[0m\u001b[0;34m\u001b[0m\u001b[0;34m\u001b[0m\u001b[0m\n\u001b[0m\u001b[1;32m    174\u001b[0m     \u001b[0;32melif\u001b[0m \u001b[0mmode\u001b[0m \u001b[0;34m==\u001b[0m \u001b[0;34m'r+'\u001b[0m\u001b[0;34m:\u001b[0m\u001b[0;34m\u001b[0m\u001b[0;34m\u001b[0m\u001b[0m\n\u001b[1;32m    175\u001b[0m         \u001b[0mfid\u001b[0m \u001b[0;34m=\u001b[0m \u001b[0mh5f\u001b[0m\u001b[0;34m.\u001b[0m\u001b[0mopen\u001b[0m\u001b[0;34m(\u001b[0m\u001b[0mname\u001b[0m\u001b[0;34m,\u001b[0m \u001b[0mh5f\u001b[0m\u001b[0;34m.\u001b[0m\u001b[0mACC_RDWR\u001b[0m\u001b[0;34m,\u001b[0m \u001b[0mfapl\u001b[0m\u001b[0;34m=\u001b[0m\u001b[0mfapl\u001b[0m\u001b[0;34m)\u001b[0m\u001b[0;34m\u001b[0m\u001b[0;34m\u001b[0m\u001b[0m\n",
      "\u001b[0;32mh5py/_objects.pyx\u001b[0m in \u001b[0;36mh5py._objects.with_phil.wrapper\u001b[0;34m()\u001b[0m\n",
      "\u001b[0;32mh5py/_objects.pyx\u001b[0m in \u001b[0;36mh5py._objects.with_phil.wrapper\u001b[0;34m()\u001b[0m\n",
      "\u001b[0;32mh5py/h5f.pyx\u001b[0m in \u001b[0;36mh5py.h5f.open\u001b[0;34m()\u001b[0m\n",
      "\u001b[0;31mOSError\u001b[0m: Unable to open file (unable to open file: name = 'output', errno = 2, error message = 'No such file or directory', flags = 0, o_flags = 0)"
     ]
    }
   ],
   "source": [
    "hdf_file_path = 'output'\n",
    "print('Reading in HDF file...', end=' ')\n",
    "data = SampleFile()\n",
    "data.read_hdf(hdf_file_path)\n",
    "df = data.as_dataframe(injection_parameters=True,\n",
    "                           static_arguments=True)"
   ]
  },
  {
   "cell_type": "code",
   "execution_count": 2,
   "id": "6463fd32-98b0-44c5-9264-84b6f3d0b696",
   "metadata": {},
   "outputs": [],
   "source": [
    "# -----------------------------------------------------------------------------\n",
    "# FUNCTION DEFINITIONS\n",
    "# -----------------------------------------------------------------------------\n",
    "\n",
    "def queue_worker(arguments, results_queue):\n",
    "    \"\"\"\n",
    "    Helper function to generate a single sample in a dedicated process.\n",
    "\n",
    "    Args:\n",
    "        arguments (dict): Dictionary containing the arguments that are\n",
    "            passed to generate_sample().\n",
    "        results_queue (Queue): The queue to which the results of this\n",
    "            worker / process are passed.\n",
    "    \"\"\"\n",
    "    \n",
    "    # Try to generate a sample using the given arguments and store the result\n",
    "    # in the given result_queue (which is shared across all worker processes).\n",
    "    try:\n",
    "        result = generate_sample(**arguments)\n",
    "        results_queue.put(result)\n",
    "        sys.exit(0)\n",
    "    \n",
    "    # For some arguments, LALSuite crashes during the sample generation.\n",
    "    # In this case, terminate with a non-zero exit code to make sure a new\n",
    "    # set of argument is added to the main arguments_queue\n",
    "    except RuntimeError:\n",
    "        sys.exit('Runtime Error')"
   ]
  },
  {
   "cell_type": "code",
   "execution_count": 13,
   "id": "7cb3b2e2-ee5e-4df3-8ef8-0832cc19aa36",
   "metadata": {},
   "outputs": [
    {
     "name": "stdout",
     "output_type": "stream",
     "text": [
      "\n",
      "GENERATE A GW DATA SAMPLE FILE\n",
      "\n",
      "1633471982.066561\n"
     ]
    }
   ],
   "source": [
    "script_start = time.time()\n",
    "\n",
    "print('')\n",
    "print('GENERATE A GW DATA SAMPLE FILE')\n",
    "print('')\n",
    "\n",
    "#\n",
    "print (script_start)"
   ]
  },
  {
   "cell_type": "code",
   "execution_count": 15,
   "id": "98f63460-44cd-454e-875e-d9cc74dbbdb6",
   "metadata": {},
   "outputs": [
    {
     "name": "stdout",
     "output_type": "stream",
     "text": [
      "Parsing command line arguments... "
     ]
    },
    {
     "name": "stderr",
     "output_type": "stream",
     "text": [
      "usage: __main__.py [-h] [--config-file CONFIG_FILE]\n",
      "__main__.py: error: unrecognized arguments: -f /home/yanyan.zheng/.local/share/jupyter/runtime/kernel-08e1aa98-35b8-416a-a721-0632a54dadcf.json\n"
     ]
    },
    {
     "ename": "SystemExit",
     "evalue": "2",
     "output_type": "error",
     "traceback": [
      "An exception has occurred, use %tb to see the full traceback.\n",
      "\u001b[0;31mSystemExit\u001b[0m\u001b[0;31m:\u001b[0m 2\n"
     ]
    }
   ],
   "source": [
    "parser = argparse.ArgumentParser(description='Generate a GW data sample.')\n",
    "parser.add_argument('--config-file',\n",
    "                    help='Name of the JSON configuration file which '\n",
    "                    'controls the sample generation process.',\n",
    "                    default='default.json')\n",
    "\n",
    "# Parse the arguments that were passed when calling this script\n",
    "print('Parsing command line arguments...', end=' ')\n",
    "command_line_arguments = vars(parser.parse_args())\n",
    "print('Done!')\n",
    "      "
   ]
  },
  {
   "cell_type": "code",
   "execution_count": 14,
   "id": "085d6893-8a06-4d53-aa61-6d03d6263737",
   "metadata": {},
   "outputs": [
    {
     "ename": "NameError",
     "evalue": "name 'command_line_arguments' is not defined",
     "output_type": "error",
     "traceback": [
      "\u001b[0;31m---------------------------------------------------------------------------\u001b[0m",
      "\u001b[0;31mNameError\u001b[0m                                 Traceback (most recent call last)",
      "\u001b[0;32m<ipython-input-14-cb4b890619df>\u001b[0m in \u001b[0;36m<module>\u001b[0;34m\u001b[0m\n\u001b[0;32m----> 1\u001b[0;31m \u001b[0mjson_config_name\u001b[0m \u001b[0;34m=\u001b[0m \u001b[0mcommand_line_arguments\u001b[0m\u001b[0;34m[\u001b[0m\u001b[0;34m'config_file'\u001b[0m\u001b[0;34m]\u001b[0m\u001b[0;34m\u001b[0m\u001b[0;34m\u001b[0m\u001b[0m\n\u001b[0m\u001b[1;32m      2\u001b[0m \u001b[0mjson_config_path\u001b[0m \u001b[0;34m=\u001b[0m \u001b[0mos\u001b[0m\u001b[0;34m.\u001b[0m\u001b[0mpath\u001b[0m\u001b[0;34m.\u001b[0m\u001b[0mjoin\u001b[0m\u001b[0;34m(\u001b[0m\u001b[0;34m'.'\u001b[0m\u001b[0;34m,\u001b[0m \u001b[0;34m'config_files'\u001b[0m\u001b[0;34m,\u001b[0m \u001b[0mjson_config_name\u001b[0m\u001b[0;34m)\u001b[0m\u001b[0;34m\u001b[0m\u001b[0;34m\u001b[0m\u001b[0m\n\u001b[1;32m      3\u001b[0m \u001b[0;34m\u001b[0m\u001b[0m\n\u001b[1;32m      4\u001b[0m \u001b[0mprint\u001b[0m\u001b[0;34m(\u001b[0m\u001b[0;34m'Reading and validating in JSON configuration file...'\u001b[0m\u001b[0;34m,\u001b[0m \u001b[0mend\u001b[0m\u001b[0;34m=\u001b[0m\u001b[0;34m' '\u001b[0m\u001b[0;34m)\u001b[0m\u001b[0;34m\u001b[0m\u001b[0;34m\u001b[0m\u001b[0m\n\u001b[1;32m      5\u001b[0m \u001b[0mconfig\u001b[0m \u001b[0;34m=\u001b[0m \u001b[0mread_json_config\u001b[0m\u001b[0;34m(\u001b[0m\u001b[0mjson_config_path\u001b[0m\u001b[0;34m)\u001b[0m\u001b[0;34m\u001b[0m\u001b[0;34m\u001b[0m\u001b[0m\n",
      "\u001b[0;31mNameError\u001b[0m: name 'command_line_arguments' is not defined"
     ]
    }
   ],
   "source": [
    "json_config_name = command_line_arguments['config_file']\n",
    "json_config_path = os.path.join('.', 'config_files', json_config_name)\n",
    "\n",
    "print('Reading and validating in JSON configuration file...', end=' ')\n",
    "config = read_json_config(json_config_path)\n",
    "print('Done!')"
   ]
  },
  {
   "cell_type": "code",
   "execution_count": 11,
   "id": "87951a3a-1b97-409a-8b31-1ccf82373846",
   "metadata": {},
   "outputs": [
    {
     "ename": "IndentationError",
     "evalue": "unexpected indent (<ipython-input-11-f04518bf478d>, line 16)",
     "output_type": "error",
     "traceback": [
      "\u001b[0;36m  File \u001b[0;32m\"<ipython-input-11-f04518bf478d>\"\u001b[0;36m, line \u001b[0;32m16\u001b[0m\n\u001b[0;31m    script_start = time.time()\u001b[0m\n\u001b[0m    ^\u001b[0m\n\u001b[0;31mIndentationError\u001b[0m\u001b[0;31m:\u001b[0m unexpected indent\n"
     ]
    }
   ],
   "source": [
    "# -----------------------------------------------------------------------------\n",
    "# MAIN CODE\n",
    "# -----------------------------------------------------------------------------\n",
    "\n",
    "if __name__ == '__main__':\n",
    "\n",
    "    # -------------------------------------------------------------------------\n",
    "    # Preliminaries\n",
    "    # -------------------------------------------------------------------------\n",
    "\n",
    "    # Disable output buffering ('flush' option is not available for Python 2)\n",
    "    #sys.stdout = os.fdopen(sys.stdout.fileno(), 'w', 0)\n",
    "    #https://stackoverflow.com/questions/107705/disable-output-buffering/14729823#14729823\n",
    " #   sys.stdout = io.TextIOWrapper(open(sys.stdout.fileno(), 'wb', 0), write_through=True)\n",
    "    # Start the stopwatch\n",
    "    script_start = time.time()\n",
    "\n",
    "    print('')\n",
    "    print('GENERATE A GW DATA SAMPLE FILE')\n",
    "    print('')\n",
    "    \n",
    "    # -------------------------------------------------------------------------\n",
    "    # Parse the command line arguments\n",
    "    # -------------------------------------------------------------------------\n",
    "\n",
    "    # Set up the parser and add arguments\n",
    "    parser = argparse.ArgumentParser(description='Generate a GW data sample.')\n",
    "    parser.add_argument('--config-file',\n",
    "                        help='Name of the JSON configuration file which '\n",
    "                             'controls the sample generation process.',\n",
    "                        default='default.json')\n",
    "\n",
    "    # Parse the arguments that were passed when calling this script\n",
    "    print('Parsing command line arguments...', end=' ')\n",
    "    command_line_arguments = vars(parser.parse_args())\n",
    "    print('Done!')\n",
    "\n",
    "    # -------------------------------------------------------------------------\n",
    "    # Read in JSON config file specifying the sample generation process\n",
    "    # -------------------------------------------------------------------------\n",
    "\n",
    "    # Build the full path to the config file\n",
    "    json_config_name = command_line_arguments['config_file']\n",
    "    json_config_path = os.path.join('.', 'config_files', json_config_name)\n",
    "    \n",
    "    # Read the JSON configuration into a dict\n",
    "    print('Reading and validating in JSON configuration file...', end=' ')\n",
    "    config = read_json_config(json_config_path)\n",
    "    print('Done!')\n",
    "\n",
    "    # -------------------------------------------------------------------------\n",
    "    # Read in INI config file specifying the static_args and variable_args\n",
    "    # -------------------------------------------------------------------------\n",
    "\n",
    "    # Build the full path to the waveform params file\n",
    "    ini_config_name = config['waveform_params_file_name']\n",
    "    ini_config_path = os.path.join('.', 'config_files', ini_config_name)\n",
    "\n",
    "    # Read in the variable_arguments and static_arguments\n",
    "    print('Reading and validating in INI configuration file...', end=' ')\n",
    "    variable_arguments, static_arguments = read_ini_config(ini_config_path)\n",
    "    print('Done!\\n')\n",
    "\n",
    "    # -------------------------------------------------------------------------\n",
    "    # Shortcuts and random seed\n",
    "    # -------------------------------------------------------------------------\n",
    "\n",
    "    # Set the random seed for this script\n",
    "    np.random.seed(config['random_seed'])\n",
    "\n",
    "    # Define some useful shortcuts\n",
    "    random_seed = config['random_seed']\n",
    "    max_runtime = config['max_runtime']\n",
    "    bkg_data_dir = config['background_data_directory']\n",
    "\n",
    "    # -------------------------------------------------------------------------\n",
    "    # Construct a generator for sampling waveform parameters\n",
    "    # -------------------------------------------------------------------------\n",
    "\n",
    "    # Initialize a waveform parameter generator that can sample injection\n",
    "    # parameters from the distributions specified in the config file\n",
    "    waveform_parameter_generator = \\\n",
    "        WaveformParameterGenerator(config_file=ini_config_path,\n",
    "                                   random_seed=random_seed)\n",
    "\n",
    "    # Wrap it in a generator expression so that we can we can easily sample\n",
    "    # from it by calling next(waveform_parameters)\n",
    "    waveform_parameters = \\\n",
    "        (waveform_parameter_generator.draw() for _ in iter(int, 1))\n",
    "\n",
    "    # -------------------------------------------------------------------------\n",
    "    # Construct a generator for sampling valid noise times\n",
    "    # -------------------------------------------------------------------------\n",
    "\n",
    "    # If the 'background_data_directory' is None, we will use synthetic noise\n",
    "    if config['background_data_directory'] is None:\n",
    "\n",
    "        print('Using synthetic noise! (background_data_directory = None)\\n')\n",
    "\n",
    "        # Create a iterator that returns a fake \"event time\", which we will\n",
    "        # use as a seed for the RNG to ensure the reproducibility of the\n",
    "        # generated synthetic noise.\n",
    "        # For the HDF file path that contains that time, we always yield\n",
    "        # None, so that we know that we need to generate synthetic noise.\n",
    "        noise_times = ((1000000000 + _, None) for _ in count())\n",
    "\n",
    "    # Otherwise, we set up a timeline object for the background noise, that\n",
    "    # is, we read in all HDF files in the raw_data_directory and figure out\n",
    "    # which parts of it are useable (i.e., have the right data quality and\n",
    "    # injection bits set as specified in the config file).\n",
    "    else:\n",
    "\n",
    "        print('Using real noise from LIGO recordings! '\n",
    "              '(background_data_directory = {})'.format(bkg_data_dir))\n",
    "        print('Reading in raw data. This may take several minutes...', end=' ')\n",
    "\n",
    "        # Create a timeline object by running over all HDF files once\n",
    "        noise_timeline = NoiseTimeline(background_data_directory=bkg_data_dir,\n",
    "                                       random_seed=random_seed)\n",
    "\n",
    "        # Create a noise time generator so that can sample valid noise times\n",
    "        # simply by calling next(noise_time_generator)\n",
    "        delta_t = int(static_arguments['noise_interval_width'] / 2)\n",
    "        noise_times = (noise_timeline.sample(delta_t=delta_t,\n",
    "                                             dq_bits=config['dq_bits'],\n",
    "                                             inj_bits=config['inj_bits'],\n",
    "                                             return_paths=True)\n",
    "                       for _ in iter(int, 1))\n",
    "        \n",
    "        print('Done!\\n')\n",
    "\n",
    "    # -------------------------------------------------------------------------\n",
    "    # Define a convenience function to generate arguments for the simulation\n",
    "    # -------------------------------------------------------------------------\n",
    "\n",
    "    def generate_arguments(injection=True):\n",
    "\n",
    "        # Only sample waveform parameters if we are making an injection\n",
    "        waveform_params = next(waveform_parameters) if injection else None\n",
    "\n",
    "        # Return all necessary arguments as a dictionary\n",
    "        return dict(static_arguments=static_arguments,\n",
    "                    event_tuple=next(noise_times),\n",
    "                    waveform_params=waveform_params)\n",
    "\n",
    "    # -------------------------------------------------------------------------\n",
    "    # Finally: Create our samples!\n",
    "    # -------------------------------------------------------------------------\n",
    "\n",
    "    # Keep track of all the samples (and parameters) we have generated\n",
    "    samples = dict(injection_samples=[], noise_samples=[])\n",
    "    injection_parameters = dict(injection_samples=[], noise_samples=[])"
   ]
  },
  {
   "cell_type": "code",
   "execution_count": null,
   "id": "05e7734e-01ff-4233-9852-8db5381fdef3",
   "metadata": {},
   "outputs": [],
   "source": []
  }
 ],
 "metadata": {
  "kernelspec": {
   "display_name": "igwn-py38",
   "language": "python",
   "name": "igwn-py38"
  },
  "language_info": {
   "codemirror_mode": {
    "name": "ipython",
    "version": 3
   },
   "file_extension": ".py",
   "mimetype": "text/x-python",
   "name": "python",
   "nbconvert_exporter": "python",
   "pygments_lexer": "ipython3",
   "version": "3.8.12"
  }
 },
 "nbformat": 4,
 "nbformat_minor": 5
}
